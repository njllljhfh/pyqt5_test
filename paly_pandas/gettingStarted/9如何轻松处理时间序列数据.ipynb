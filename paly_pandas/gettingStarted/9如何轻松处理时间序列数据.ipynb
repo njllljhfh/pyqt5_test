{
 "cells": [
  {
   "cell_type": "code",
   "execution_count": 1,
   "id": "3cb8701a",
   "metadata": {},
   "outputs": [
    {
     "data": {
      "text/html": [
       "<div>\n",
       "<style scoped>\n",
       "    .dataframe tbody tr th:only-of-type {\n",
       "        vertical-align: middle;\n",
       "    }\n",
       "\n",
       "    .dataframe tbody tr th {\n",
       "        vertical-align: top;\n",
       "    }\n",
       "\n",
       "    .dataframe thead th {\n",
       "        text-align: right;\n",
       "    }\n",
       "</style>\n",
       "<table border=\"1\" class=\"dataframe\">\n",
       "  <thead>\n",
       "    <tr style=\"text-align: right;\">\n",
       "      <th></th>\n",
       "      <th>city</th>\n",
       "      <th>country</th>\n",
       "      <th>datetime</th>\n",
       "      <th>location</th>\n",
       "      <th>parameter</th>\n",
       "      <th>value</th>\n",
       "      <th>unit</th>\n",
       "    </tr>\n",
       "  </thead>\n",
       "  <tbody>\n",
       "    <tr>\n",
       "      <th>0</th>\n",
       "      <td>Paris</td>\n",
       "      <td>FR</td>\n",
       "      <td>2019-06-21 00:00:00+00:00</td>\n",
       "      <td>FR04014</td>\n",
       "      <td>no2</td>\n",
       "      <td>20.0</td>\n",
       "      <td>µg/m³</td>\n",
       "    </tr>\n",
       "    <tr>\n",
       "      <th>1</th>\n",
       "      <td>Paris</td>\n",
       "      <td>FR</td>\n",
       "      <td>2019-06-20 23:00:00+00:00</td>\n",
       "      <td>FR04014</td>\n",
       "      <td>no2</td>\n",
       "      <td>21.8</td>\n",
       "      <td>µg/m³</td>\n",
       "    </tr>\n",
       "    <tr>\n",
       "      <th>2</th>\n",
       "      <td>Paris</td>\n",
       "      <td>FR</td>\n",
       "      <td>2019-06-20 22:00:00+00:00</td>\n",
       "      <td>FR04014</td>\n",
       "      <td>no2</td>\n",
       "      <td>26.5</td>\n",
       "      <td>µg/m³</td>\n",
       "    </tr>\n",
       "    <tr>\n",
       "      <th>3</th>\n",
       "      <td>Paris</td>\n",
       "      <td>FR</td>\n",
       "      <td>2019-06-20 21:00:00+00:00</td>\n",
       "      <td>FR04014</td>\n",
       "      <td>no2</td>\n",
       "      <td>24.9</td>\n",
       "      <td>µg/m³</td>\n",
       "    </tr>\n",
       "    <tr>\n",
       "      <th>4</th>\n",
       "      <td>Paris</td>\n",
       "      <td>FR</td>\n",
       "      <td>2019-06-20 20:00:00+00:00</td>\n",
       "      <td>FR04014</td>\n",
       "      <td>no2</td>\n",
       "      <td>21.4</td>\n",
       "      <td>µg/m³</td>\n",
       "    </tr>\n",
       "    <tr>\n",
       "      <th>...</th>\n",
       "      <td>...</td>\n",
       "      <td>...</td>\n",
       "      <td>...</td>\n",
       "      <td>...</td>\n",
       "      <td>...</td>\n",
       "      <td>...</td>\n",
       "      <td>...</td>\n",
       "    </tr>\n",
       "    <tr>\n",
       "      <th>2063</th>\n",
       "      <td>London</td>\n",
       "      <td>GB</td>\n",
       "      <td>2019-05-07 06:00:00+00:00</td>\n",
       "      <td>London Westminster</td>\n",
       "      <td>no2</td>\n",
       "      <td>26.0</td>\n",
       "      <td>µg/m³</td>\n",
       "    </tr>\n",
       "    <tr>\n",
       "      <th>2064</th>\n",
       "      <td>London</td>\n",
       "      <td>GB</td>\n",
       "      <td>2019-05-07 04:00:00+00:00</td>\n",
       "      <td>London Westminster</td>\n",
       "      <td>no2</td>\n",
       "      <td>16.0</td>\n",
       "      <td>µg/m³</td>\n",
       "    </tr>\n",
       "    <tr>\n",
       "      <th>2065</th>\n",
       "      <td>London</td>\n",
       "      <td>GB</td>\n",
       "      <td>2019-05-07 03:00:00+00:00</td>\n",
       "      <td>London Westminster</td>\n",
       "      <td>no2</td>\n",
       "      <td>19.0</td>\n",
       "      <td>µg/m³</td>\n",
       "    </tr>\n",
       "    <tr>\n",
       "      <th>2066</th>\n",
       "      <td>London</td>\n",
       "      <td>GB</td>\n",
       "      <td>2019-05-07 02:00:00+00:00</td>\n",
       "      <td>London Westminster</td>\n",
       "      <td>no2</td>\n",
       "      <td>19.0</td>\n",
       "      <td>µg/m³</td>\n",
       "    </tr>\n",
       "    <tr>\n",
       "      <th>2067</th>\n",
       "      <td>London</td>\n",
       "      <td>GB</td>\n",
       "      <td>2019-05-07 01:00:00+00:00</td>\n",
       "      <td>London Westminster</td>\n",
       "      <td>no2</td>\n",
       "      <td>23.0</td>\n",
       "      <td>µg/m³</td>\n",
       "    </tr>\n",
       "  </tbody>\n",
       "</table>\n",
       "<p>2068 rows × 7 columns</p>\n",
       "</div>"
      ],
      "text/plain": [
       "        city country                   datetime            location parameter  \\\n",
       "0      Paris      FR  2019-06-21 00:00:00+00:00             FR04014       no2   \n",
       "1      Paris      FR  2019-06-20 23:00:00+00:00             FR04014       no2   \n",
       "2      Paris      FR  2019-06-20 22:00:00+00:00             FR04014       no2   \n",
       "3      Paris      FR  2019-06-20 21:00:00+00:00             FR04014       no2   \n",
       "4      Paris      FR  2019-06-20 20:00:00+00:00             FR04014       no2   \n",
       "...      ...     ...                        ...                 ...       ...   \n",
       "2063  London      GB  2019-05-07 06:00:00+00:00  London Westminster       no2   \n",
       "2064  London      GB  2019-05-07 04:00:00+00:00  London Westminster       no2   \n",
       "2065  London      GB  2019-05-07 03:00:00+00:00  London Westminster       no2   \n",
       "2066  London      GB  2019-05-07 02:00:00+00:00  London Westminster       no2   \n",
       "2067  London      GB  2019-05-07 01:00:00+00:00  London Westminster       no2   \n",
       "\n",
       "      value   unit  \n",
       "0      20.0  µg/m³  \n",
       "1      21.8  µg/m³  \n",
       "2      26.5  µg/m³  \n",
       "3      24.9  µg/m³  \n",
       "4      21.4  µg/m³  \n",
       "...     ...    ...  \n",
       "2063   26.0  µg/m³  \n",
       "2064   16.0  µg/m³  \n",
       "2065   19.0  µg/m³  \n",
       "2066   19.0  µg/m³  \n",
       "2067   23.0  µg/m³  \n",
       "\n",
       "[2068 rows x 7 columns]"
      ]
     },
     "execution_count": 1,
     "metadata": {},
     "output_type": "execute_result"
    }
   ],
   "source": [
    "import pandas as pd\n",
    "DOCUMENT_URL = 'https://pandas.pydata.org/docs/getting_started/intro_tutorials/09_timeseries.html'\n",
    "\n",
    "air_quality = pd.read_csv(\"data/air_quality_no2_long.csv\")\n",
    "air_quality = air_quality.rename(columns={\"date.utc\": \"datetime\"})\n",
    "air_quality"
   ]
  },
  {
   "cell_type": "code",
   "execution_count": 4,
   "id": "7a4a98e4",
   "metadata": {},
   "outputs": [
    {
     "data": {
      "text/plain": [
       "array(['Paris', 'Antwerpen', 'London'], dtype=object)"
      ]
     },
     "execution_count": 4,
     "metadata": {},
     "output_type": "execute_result"
    }
   ],
   "source": [
    "# 查看 city 列中不重复的值\n",
    "air_quality.city.unique()"
   ]
  },
  {
   "cell_type": "code",
   "execution_count": 5,
   "id": "c25cbd0a",
   "metadata": {},
   "outputs": [
    {
     "data": {
      "text/plain": [
       "0       2019-06-21 00:00:00+00:00\n",
       "1       2019-06-20 23:00:00+00:00\n",
       "2       2019-06-20 22:00:00+00:00\n",
       "3       2019-06-20 21:00:00+00:00\n",
       "4       2019-06-20 20:00:00+00:00\n",
       "                  ...            \n",
       "2063    2019-05-07 06:00:00+00:00\n",
       "2064    2019-05-07 04:00:00+00:00\n",
       "2065    2019-05-07 03:00:00+00:00\n",
       "2066    2019-05-07 02:00:00+00:00\n",
       "2067    2019-05-07 01:00:00+00:00\n",
       "Name: datetime, Length: 2068, dtype: object"
      ]
     },
     "execution_count": 5,
     "metadata": {},
     "output_type": "execute_result"
    }
   ],
   "source": [
    "air_quality[\"datetime\"]"
   ]
  },
  {
   "cell_type": "code",
   "execution_count": 7,
   "id": "27b2f8e0",
   "metadata": {},
   "outputs": [
    {
     "data": {
      "text/plain": [
       "0      2019-06-21 00:00:00+00:00\n",
       "1      2019-06-20 23:00:00+00:00\n",
       "2      2019-06-20 22:00:00+00:00\n",
       "3      2019-06-20 21:00:00+00:00\n",
       "4      2019-06-20 20:00:00+00:00\n",
       "                  ...           \n",
       "2063   2019-05-07 06:00:00+00:00\n",
       "2064   2019-05-07 04:00:00+00:00\n",
       "2065   2019-05-07 03:00:00+00:00\n",
       "2066   2019-05-07 02:00:00+00:00\n",
       "2067   2019-05-07 01:00:00+00:00\n",
       "Name: datetime, Length: 2068, dtype: datetime64[ns, UTC]"
      ]
     },
     "execution_count": 7,
     "metadata": {},
     "output_type": "execute_result"
    }
   ],
   "source": [
    "# 使用pandas datetime属性\n",
    "# 我想用datetime列中的日期作为datetime对象而不是纯文本\n",
    "# In pandas we call these datetime objects similar to datetime.datetime from the standard library as pandas.Timestamp.\n",
    "air_quality[\"datetime\"] = pd.to_datetime(air_quality[\"datetime\"])\n",
    "air_quality[\"datetime\"]"
   ]
  },
  {
   "cell_type": "code",
   "execution_count": 8,
   "id": "aaf203ba",
   "metadata": {},
   "outputs": [],
   "source": [
    "# pandas 的输入函数如 pandas.read_csv() 和 pandas.read_json() \n",
    "# 可以在读取数据时使用 parse_dates 参数 和 一个要转换为时间戳的列的列表来进行日期转换:\n",
    "# pd.read_csv(\"../data/air_quality_no2_long.csv\", parse_dates=[\"datetime\"])"
   ]
  },
  {
   "cell_type": "code",
   "execution_count": 9,
   "id": "7cd60af9",
   "metadata": {},
   "outputs": [
    {
     "data": {
      "text/plain": [
       "(Timestamp('2019-05-07 01:00:00+0000', tz='UTC'),\n",
       " Timestamp('2019-06-21 00:00:00+0000', tz='UTC'))"
      ]
     },
     "execution_count": 9,
     "metadata": {},
     "output_type": "execute_result"
    }
   ],
   "source": [
    "# 我们正在处理的时间序列数据集的 开始 和 结束 日期是什么?\n",
    "air_quality[\"datetime\"].min(), air_quality[\"datetime\"].max()"
   ]
  },
  {
   "cell_type": "code",
   "execution_count": 11,
   "id": "d9466073",
   "metadata": {},
   "outputs": [
    {
     "data": {
      "text/plain": [
       "Timedelta('44 days 23:00:00')"
      ]
     },
     "execution_count": 11,
     "metadata": {},
     "output_type": "execute_result"
    }
   ],
   "source": [
    "# 我们可以用这个来得到时间序列的长度:\n",
    "air_quality[\"datetime\"].max() - air_quality[\"datetime\"].min()  # pandas.Timedelta "
   ]
  },
  {
   "cell_type": "code",
   "execution_count": 12,
   "id": "5683ad92",
   "metadata": {},
   "outputs": [
    {
     "data": {
      "text/html": [
       "<div>\n",
       "<style scoped>\n",
       "    .dataframe tbody tr th:only-of-type {\n",
       "        vertical-align: middle;\n",
       "    }\n",
       "\n",
       "    .dataframe tbody tr th {\n",
       "        vertical-align: top;\n",
       "    }\n",
       "\n",
       "    .dataframe thead th {\n",
       "        text-align: right;\n",
       "    }\n",
       "</style>\n",
       "<table border=\"1\" class=\"dataframe\">\n",
       "  <thead>\n",
       "    <tr style=\"text-align: right;\">\n",
       "      <th></th>\n",
       "      <th>city</th>\n",
       "      <th>country</th>\n",
       "      <th>datetime</th>\n",
       "      <th>location</th>\n",
       "      <th>parameter</th>\n",
       "      <th>value</th>\n",
       "      <th>unit</th>\n",
       "      <th>month</th>\n",
       "    </tr>\n",
       "  </thead>\n",
       "  <tbody>\n",
       "    <tr>\n",
       "      <th>0</th>\n",
       "      <td>Paris</td>\n",
       "      <td>FR</td>\n",
       "      <td>2019-06-21 00:00:00+00:00</td>\n",
       "      <td>FR04014</td>\n",
       "      <td>no2</td>\n",
       "      <td>20.0</td>\n",
       "      <td>µg/m³</td>\n",
       "      <td>6</td>\n",
       "    </tr>\n",
       "    <tr>\n",
       "      <th>1</th>\n",
       "      <td>Paris</td>\n",
       "      <td>FR</td>\n",
       "      <td>2019-06-20 23:00:00+00:00</td>\n",
       "      <td>FR04014</td>\n",
       "      <td>no2</td>\n",
       "      <td>21.8</td>\n",
       "      <td>µg/m³</td>\n",
       "      <td>6</td>\n",
       "    </tr>\n",
       "    <tr>\n",
       "      <th>2</th>\n",
       "      <td>Paris</td>\n",
       "      <td>FR</td>\n",
       "      <td>2019-06-20 22:00:00+00:00</td>\n",
       "      <td>FR04014</td>\n",
       "      <td>no2</td>\n",
       "      <td>26.5</td>\n",
       "      <td>µg/m³</td>\n",
       "      <td>6</td>\n",
       "    </tr>\n",
       "    <tr>\n",
       "      <th>3</th>\n",
       "      <td>Paris</td>\n",
       "      <td>FR</td>\n",
       "      <td>2019-06-20 21:00:00+00:00</td>\n",
       "      <td>FR04014</td>\n",
       "      <td>no2</td>\n",
       "      <td>24.9</td>\n",
       "      <td>µg/m³</td>\n",
       "      <td>6</td>\n",
       "    </tr>\n",
       "    <tr>\n",
       "      <th>4</th>\n",
       "      <td>Paris</td>\n",
       "      <td>FR</td>\n",
       "      <td>2019-06-20 20:00:00+00:00</td>\n",
       "      <td>FR04014</td>\n",
       "      <td>no2</td>\n",
       "      <td>21.4</td>\n",
       "      <td>µg/m³</td>\n",
       "      <td>6</td>\n",
       "    </tr>\n",
       "    <tr>\n",
       "      <th>...</th>\n",
       "      <td>...</td>\n",
       "      <td>...</td>\n",
       "      <td>...</td>\n",
       "      <td>...</td>\n",
       "      <td>...</td>\n",
       "      <td>...</td>\n",
       "      <td>...</td>\n",
       "      <td>...</td>\n",
       "    </tr>\n",
       "    <tr>\n",
       "      <th>2063</th>\n",
       "      <td>London</td>\n",
       "      <td>GB</td>\n",
       "      <td>2019-05-07 06:00:00+00:00</td>\n",
       "      <td>London Westminster</td>\n",
       "      <td>no2</td>\n",
       "      <td>26.0</td>\n",
       "      <td>µg/m³</td>\n",
       "      <td>5</td>\n",
       "    </tr>\n",
       "    <tr>\n",
       "      <th>2064</th>\n",
       "      <td>London</td>\n",
       "      <td>GB</td>\n",
       "      <td>2019-05-07 04:00:00+00:00</td>\n",
       "      <td>London Westminster</td>\n",
       "      <td>no2</td>\n",
       "      <td>16.0</td>\n",
       "      <td>µg/m³</td>\n",
       "      <td>5</td>\n",
       "    </tr>\n",
       "    <tr>\n",
       "      <th>2065</th>\n",
       "      <td>London</td>\n",
       "      <td>GB</td>\n",
       "      <td>2019-05-07 03:00:00+00:00</td>\n",
       "      <td>London Westminster</td>\n",
       "      <td>no2</td>\n",
       "      <td>19.0</td>\n",
       "      <td>µg/m³</td>\n",
       "      <td>5</td>\n",
       "    </tr>\n",
       "    <tr>\n",
       "      <th>2066</th>\n",
       "      <td>London</td>\n",
       "      <td>GB</td>\n",
       "      <td>2019-05-07 02:00:00+00:00</td>\n",
       "      <td>London Westminster</td>\n",
       "      <td>no2</td>\n",
       "      <td>19.0</td>\n",
       "      <td>µg/m³</td>\n",
       "      <td>5</td>\n",
       "    </tr>\n",
       "    <tr>\n",
       "      <th>2067</th>\n",
       "      <td>London</td>\n",
       "      <td>GB</td>\n",
       "      <td>2019-05-07 01:00:00+00:00</td>\n",
       "      <td>London Westminster</td>\n",
       "      <td>no2</td>\n",
       "      <td>23.0</td>\n",
       "      <td>µg/m³</td>\n",
       "      <td>5</td>\n",
       "    </tr>\n",
       "  </tbody>\n",
       "</table>\n",
       "<p>2068 rows × 8 columns</p>\n",
       "</div>"
      ],
      "text/plain": [
       "        city country                  datetime            location parameter  \\\n",
       "0      Paris      FR 2019-06-21 00:00:00+00:00             FR04014       no2   \n",
       "1      Paris      FR 2019-06-20 23:00:00+00:00             FR04014       no2   \n",
       "2      Paris      FR 2019-06-20 22:00:00+00:00             FR04014       no2   \n",
       "3      Paris      FR 2019-06-20 21:00:00+00:00             FR04014       no2   \n",
       "4      Paris      FR 2019-06-20 20:00:00+00:00             FR04014       no2   \n",
       "...      ...     ...                       ...                 ...       ...   \n",
       "2063  London      GB 2019-05-07 06:00:00+00:00  London Westminster       no2   \n",
       "2064  London      GB 2019-05-07 04:00:00+00:00  London Westminster       no2   \n",
       "2065  London      GB 2019-05-07 03:00:00+00:00  London Westminster       no2   \n",
       "2066  London      GB 2019-05-07 02:00:00+00:00  London Westminster       no2   \n",
       "2067  London      GB 2019-05-07 01:00:00+00:00  London Westminster       no2   \n",
       "\n",
       "      value   unit  month  \n",
       "0      20.0  µg/m³      6  \n",
       "1      21.8  µg/m³      6  \n",
       "2      26.5  µg/m³      6  \n",
       "3      24.9  µg/m³      6  \n",
       "4      21.4  µg/m³      6  \n",
       "...     ...    ...    ...  \n",
       "2063   26.0  µg/m³      5  \n",
       "2064   16.0  µg/m³      5  \n",
       "2065   19.0  µg/m³      5  \n",
       "2066   19.0  µg/m³      5  \n",
       "2067   23.0  µg/m³      5  \n",
       "\n",
       "[2068 rows x 8 columns]"
      ]
     },
     "execution_count": 12,
     "metadata": {},
     "output_type": "execute_result"
    }
   ],
   "source": [
    "# 我想在 DataFrame 中添加一个新列，该列只包含测量的月份\n",
    "air_quality[\"month\"] = air_quality[\"datetime\"].dt.month\n",
    "air_quality"
   ]
  },
  {
   "cell_type": "code",
   "execution_count": 21,
   "id": "563fa640",
   "metadata": {},
   "outputs": [
    {
     "data": {
      "text/plain": [
       "datetime  location          \n",
       "0         BETR801               27.875000\n",
       "          FR04014               24.856250\n",
       "          London Westminster    23.969697\n",
       "1         BETR801               22.214286\n",
       "          FR04014               30.999359\n",
       "          London Westminster    24.885714\n",
       "2         BETR801               21.125000\n",
       "          FR04014               29.165753\n",
       "          London Westminster    23.460432\n",
       "3         BETR801               27.500000\n",
       "          FR04014               28.600690\n",
       "          London Westminster    24.780142\n",
       "4         BETR801               28.400000\n",
       "          FR04014               31.617986\n",
       "          London Westminster    26.446809\n",
       "5         BETR801               33.500000\n",
       "          FR04014               25.266154\n",
       "          London Westminster    24.977612\n",
       "6         BETR801               21.896552\n",
       "          FR04014               23.274306\n",
       "          London Westminster    24.859155\n",
       "Name: value, dtype: float64"
      ]
     },
     "execution_count": 21,
     "metadata": {},
     "output_type": "execute_result"
    }
   ],
   "source": [
    "# NO2 在每周的每个工作日，各个测量地点的平均浓度浓度是多少?（如 BETR801 地点 每个周一的平均值，每个周二的平均值...）\n",
    "air_quality.groupby(\n",
    "    [air_quality[\"datetime\"].dt.weekday, \"location\"])[\"value\"].mean()"
   ]
  },
  {
   "cell_type": "code",
   "execution_count": 30,
   "id": "f5118b42",
   "metadata": {},
   "outputs": [
    {
     "data": {
      "text/plain": [
       "27.875"
      ]
     },
     "execution_count": 30,
     "metadata": {},
     "output_type": "execute_result"
    }
   ],
   "source": [
    "# BETR801 地点 每个周一（.dt.weekday==0）的平均值\n",
    "air_quality[(air_quality[\"datetime\"].dt.weekday==0) & (air_quality[\"location\"]==\"BETR801\")][\"value\"].mean()"
   ]
  },
  {
   "cell_type": "code",
   "execution_count": 50,
   "id": "0cfd9f64",
   "metadata": {
    "scrolled": true
   },
   "outputs": [
    {
     "data": {
      "text/plain": [
       "Text(0, 0.5, '$NO_2 (µg/m^3)$')"
      ]
     },
     "execution_count": 50,
     "metadata": {},
     "output_type": "execute_result"
    },
    {
     "data": {
      "image/png": "[encoded data removed]",
      "text/plain": [
       "<Figure size 864x288 with 1 Axes>"
      ]
     },
     "metadata": {
      "needs_background": "light"
     },
     "output_type": "display_data"
    }
   ],
   "source": [
    "# 在给定的数据集上，每个小时的平均值。（如：把 数据集上的日期范围内的 每一天的 0点 的值加在一起，取平均值）\n",
    "import matplotlib.pyplot as plt\n",
    "fig, axs = plt.subplots(figsize=(12, 4))\n",
    "air_quality.groupby(air_quality[\"datetime\"].dt.hour)[\"value\"].mean().plot(\n",
    "    kind='bar', rot=0, ax=axs\n",
    ")\n",
    "plt.xlabel(\"Hour of the day\")  # custom x label using matplotlib\n",
    "plt.ylabel(\"$NO_2 (µg/m^3)$\")"
   ]
  },
  {
   "cell_type": "code",
   "execution_count": 56,
   "id": "b91c20b6",
   "metadata": {},
   "outputs": [
    {
     "data": {
      "text/plain": [
       "False"
      ]
     },
     "execution_count": 56,
     "metadata": {},
     "output_type": "execute_result"
    }
   ],
   "source": [
    "air_quality.datetime.is_unique"
   ]
  },
  {
   "cell_type": "code",
   "execution_count": 54,
   "id": "93b4c040",
   "metadata": {},
   "outputs": [
    {
     "data": {
      "text/html": [
       "<div>\n",
       "<style scoped>\n",
       "    .dataframe tbody tr th:only-of-type {\n",
       "        vertical-align: middle;\n",
       "    }\n",
       "\n",
       "    .dataframe tbody tr th {\n",
       "        vertical-align: top;\n",
       "    }\n",
       "\n",
       "    .dataframe thead th {\n",
       "        text-align: right;\n",
       "    }\n",
       "</style>\n",
       "<table border=\"1\" class=\"dataframe\">\n",
       "  <thead>\n",
       "    <tr style=\"text-align: right;\">\n",
       "      <th>location</th>\n",
       "      <th>BETR801</th>\n",
       "      <th>FR04014</th>\n",
       "      <th>London Westminster</th>\n",
       "    </tr>\n",
       "    <tr>\n",
       "      <th>datetime</th>\n",
       "      <th></th>\n",
       "      <th></th>\n",
       "      <th></th>\n",
       "    </tr>\n",
       "  </thead>\n",
       "  <tbody>\n",
       "    <tr>\n",
       "      <th>2019-05-07 01:00:00+00:00</th>\n",
       "      <td>50.5</td>\n",
       "      <td>25.0</td>\n",
       "      <td>23.0</td>\n",
       "    </tr>\n",
       "    <tr>\n",
       "      <th>2019-05-07 02:00:00+00:00</th>\n",
       "      <td>45.0</td>\n",
       "      <td>27.7</td>\n",
       "      <td>19.0</td>\n",
       "    </tr>\n",
       "    <tr>\n",
       "      <th>2019-05-07 03:00:00+00:00</th>\n",
       "      <td>NaN</td>\n",
       "      <td>50.4</td>\n",
       "      <td>19.0</td>\n",
       "    </tr>\n",
       "    <tr>\n",
       "      <th>2019-05-07 04:00:00+00:00</th>\n",
       "      <td>NaN</td>\n",
       "      <td>61.9</td>\n",
       "      <td>16.0</td>\n",
       "    </tr>\n",
       "    <tr>\n",
       "      <th>2019-05-07 05:00:00+00:00</th>\n",
       "      <td>NaN</td>\n",
       "      <td>72.4</td>\n",
       "      <td>NaN</td>\n",
       "    </tr>\n",
       "    <tr>\n",
       "      <th>...</th>\n",
       "      <td>...</td>\n",
       "      <td>...</td>\n",
       "      <td>...</td>\n",
       "    </tr>\n",
       "    <tr>\n",
       "      <th>2019-06-20 20:00:00+00:00</th>\n",
       "      <td>NaN</td>\n",
       "      <td>21.4</td>\n",
       "      <td>NaN</td>\n",
       "    </tr>\n",
       "    <tr>\n",
       "      <th>2019-06-20 21:00:00+00:00</th>\n",
       "      <td>NaN</td>\n",
       "      <td>24.9</td>\n",
       "      <td>NaN</td>\n",
       "    </tr>\n",
       "    <tr>\n",
       "      <th>2019-06-20 22:00:00+00:00</th>\n",
       "      <td>NaN</td>\n",
       "      <td>26.5</td>\n",
       "      <td>NaN</td>\n",
       "    </tr>\n",
       "    <tr>\n",
       "      <th>2019-06-20 23:00:00+00:00</th>\n",
       "      <td>NaN</td>\n",
       "      <td>21.8</td>\n",
       "      <td>NaN</td>\n",
       "    </tr>\n",
       "    <tr>\n",
       "      <th>2019-06-21 00:00:00+00:00</th>\n",
       "      <td>NaN</td>\n",
       "      <td>20.0</td>\n",
       "      <td>NaN</td>\n",
       "    </tr>\n",
       "  </tbody>\n",
       "</table>\n",
       "<p>1033 rows × 3 columns</p>\n",
       "</div>"
      ],
      "text/plain": [
       "location                   BETR801  FR04014  London Westminster\n",
       "datetime                                                       \n",
       "2019-05-07 01:00:00+00:00     50.5     25.0                23.0\n",
       "2019-05-07 02:00:00+00:00     45.0     27.7                19.0\n",
       "2019-05-07 03:00:00+00:00      NaN     50.4                19.0\n",
       "2019-05-07 04:00:00+00:00      NaN     61.9                16.0\n",
       "2019-05-07 05:00:00+00:00      NaN     72.4                 NaN\n",
       "...                            ...      ...                 ...\n",
       "2019-06-20 20:00:00+00:00      NaN     21.4                 NaN\n",
       "2019-06-20 21:00:00+00:00      NaN     24.9                 NaN\n",
       "2019-06-20 22:00:00+00:00      NaN     26.5                 NaN\n",
       "2019-06-20 23:00:00+00:00      NaN     21.8                 NaN\n",
       "2019-06-21 00:00:00+00:00      NaN     20.0                 NaN\n",
       "\n",
       "[1033 rows x 3 columns]"
      ]
     },
     "execution_count": 54,
     "metadata": {},
     "output_type": "execute_result"
    }
   ],
   "source": [
    "# Datetime作为索引\n",
    "no_2 = air_quality.pivot(index=\"datetime\", columns=\"location\", values=\"value\")\n",
    "no_2"
   ]
  },
  {
   "cell_type": "code",
   "execution_count": 53,
   "id": "ffef56dd",
   "metadata": {},
   "outputs": [
    {
     "data": {
      "text/plain": [
       "True"
      ]
     },
     "execution_count": 53,
     "metadata": {},
     "output_type": "execute_result"
    }
   ],
   "source": [
    "no_2.index.is_unique"
   ]
  },
  {
   "cell_type": "code",
   "execution_count": 57,
   "id": "707d043c",
   "metadata": {},
   "outputs": [
    {
     "data": {
      "text/plain": [
       "DatetimeIndex(['2019-05-07 01:00:00+00:00', '2019-05-07 02:00:00+00:00',\n",
       "               '2019-05-07 03:00:00+00:00', '2019-05-07 04:00:00+00:00',\n",
       "               '2019-05-07 05:00:00+00:00', '2019-05-07 06:00:00+00:00',\n",
       "               '2019-05-07 07:00:00+00:00', '2019-05-07 08:00:00+00:00',\n",
       "               '2019-05-07 09:00:00+00:00', '2019-05-07 10:00:00+00:00',\n",
       "               ...\n",
       "               '2019-06-20 15:00:00+00:00', '2019-06-20 16:00:00+00:00',\n",
       "               '2019-06-20 17:00:00+00:00', '2019-06-20 18:00:00+00:00',\n",
       "               '2019-06-20 19:00:00+00:00', '2019-06-20 20:00:00+00:00',\n",
       "               '2019-06-20 21:00:00+00:00', '2019-06-20 22:00:00+00:00',\n",
       "               '2019-06-20 23:00:00+00:00', '2019-06-21 00:00:00+00:00'],\n",
       "              dtype='datetime64[ns, UTC]', name='datetime', length=1033, freq=None)"
      ]
     },
     "execution_count": 57,
     "metadata": {},
     "output_type": "execute_result"
    }
   ],
   "source": [
    "no_2.index.unique()"
   ]
  },
  {
   "cell_type": "code",
   "execution_count": 58,
   "id": "d9b37924",
   "metadata": {},
   "outputs": [
    {
     "data": {
      "text/plain": [
       "(Int64Index([2019, 2019, 2019, 2019, 2019, 2019, 2019, 2019, 2019, 2019,\n",
       "             ...\n",
       "             2019, 2019, 2019, 2019, 2019, 2019, 2019, 2019, 2019, 2019],\n",
       "            dtype='int64', name='datetime', length=1033),\n",
       " Int64Index([1, 1, 1, 1, 1, 1, 1, 1, 1, 1,\n",
       "             ...\n",
       "             3, 3, 3, 3, 3, 3, 3, 3, 3, 4],\n",
       "            dtype='int64', name='datetime', length=1033))"
      ]
     },
     "execution_count": 58,
     "metadata": {},
     "output_type": "execute_result"
    }
   ],
   "source": [
    "# 使用 datetime 索引，我们不需要用 dt 访问器来获得时间序列的属性，可以直接在索引上使用这些属性\n",
    "no_2.index.year, no_2.index.weekday"
   ]
  },
  {
   "cell_type": "code",
   "execution_count": 59,
   "id": "f80c4dd1",
   "metadata": {},
   "outputs": [
    {
     "data": {
      "text/plain": [
       "<AxesSubplot:xlabel='datetime'>"
      ]
     },
     "execution_count": 59,
     "metadata": {},
     "output_type": "execute_result"
    },
    {
     "data": {
      "image/png": "[encoded data removed]",
      "text/plain": [
       "<Figure size 432x288 with 1 Axes>"
      ]
     },
     "metadata": {
      "needs_background": "light"
     },
     "output_type": "display_data"
    }
   ],
   "source": [
    "# 将5月20日至5月21日不同站点的NO2数值绘制成一张图表\n",
    "no_2[\"2019-05-20\":\"2019-05-21\"].plot()  # 可以在 DatetimeIndex 上选择特定的数据子集。"
   ]
  },
  {
   "cell_type": "code",
   "execution_count": 60,
   "id": "8bd7aa0e",
   "metadata": {},
   "outputs": [
    {
     "data": {
      "text/html": [
       "<div>\n",
       "<style scoped>\n",
       "    .dataframe tbody tr th:only-of-type {\n",
       "        vertical-align: middle;\n",
       "    }\n",
       "\n",
       "    .dataframe tbody tr th {\n",
       "        vertical-align: top;\n",
       "    }\n",
       "\n",
       "    .dataframe thead th {\n",
       "        text-align: right;\n",
       "    }\n",
       "</style>\n",
       "<table border=\"1\" class=\"dataframe\">\n",
       "  <thead>\n",
       "    <tr style=\"text-align: right;\">\n",
       "      <th>location</th>\n",
       "      <th>BETR801</th>\n",
       "      <th>FR04014</th>\n",
       "      <th>London Westminster</th>\n",
       "    </tr>\n",
       "    <tr>\n",
       "      <th>datetime</th>\n",
       "      <th></th>\n",
       "      <th></th>\n",
       "      <th></th>\n",
       "    </tr>\n",
       "  </thead>\n",
       "  <tbody>\n",
       "    <tr>\n",
       "      <th>2019-05-31 00:00:00+00:00</th>\n",
       "      <td>74.5</td>\n",
       "      <td>97.0</td>\n",
       "      <td>97.0</td>\n",
       "    </tr>\n",
       "    <tr>\n",
       "      <th>2019-06-30 00:00:00+00:00</th>\n",
       "      <td>52.5</td>\n",
       "      <td>84.7</td>\n",
       "      <td>52.0</td>\n",
       "    </tr>\n",
       "  </tbody>\n",
       "</table>\n",
       "</div>"
      ],
      "text/plain": [
       "location                   BETR801  FR04014  London Westminster\n",
       "datetime                                                       \n",
       "2019-05-31 00:00:00+00:00     74.5     97.0                97.0\n",
       "2019-06-30 00:00:00+00:00     52.5     84.7                52.0"
      ]
     },
     "execution_count": 60,
     "metadata": {},
     "output_type": "execute_result"
    }
   ],
   "source": [
    "# 将时间序列重新采样到另一个频率\n",
    "# 统计每个站点的月最大值。\n",
    "monthly_max = no_2.resample(\"M\").max()\n",
    "monthly_max"
   ]
  },
  {
   "cell_type": "code",
   "execution_count": 64,
   "id": "7fd77eb9",
   "metadata": {},
   "outputs": [
    {
     "data": {
      "text/plain": [
       "74.5"
      ]
     },
     "execution_count": 64,
     "metadata": {},
     "output_type": "execute_result"
    }
   ],
   "source": [
    "# BETR801 地点 5月 的最大值\n",
    "air_quality[(air_quality[\"datetime\"].dt.month==5) & (air_quality[\"location\"]==\"BETR801\")][\"value\"].max()"
   ]
  },
  {
   "cell_type": "code",
   "execution_count": 65,
   "id": "0df2128c",
   "metadata": {},
   "outputs": [
    {
     "data": {
      "text/plain": [
       "<MonthEnd>"
      ]
     },
     "execution_count": 65,
     "metadata": {},
     "output_type": "execute_result"
    }
   ],
   "source": [
    "# 当对时间序列设置了频率后，时间序列的频率由 freq 属性提供:\n",
    "monthly_max.index.freq"
   ]
  },
  {
   "cell_type": "code",
   "execution_count": null,
   "id": "489c49a4",
   "metadata": {},
   "outputs": [],
   "source": []
  }
 ],
 "metadata": {
  "kernelspec": {
   "display_name": "Python 3 (ipykernel)",
   "language": "python",
   "name": "python3"
  },
  "language_info": {
   "codemirror_mode": {
    "name": "ipython",
    "version": 3
   },
   "file_extension": ".py",
   "mimetype": "text/x-python",
   "name": "python",
   "nbconvert_exporter": "python",
   "pygments_lexer": "ipython3",
   "version": "3.9.7"
  }
 },
 "nbformat": 4,
 "nbformat_minor": 5
}
